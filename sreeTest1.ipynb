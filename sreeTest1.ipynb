{
  "nbformat": 4,
  "nbformat_minor": 0,
  "metadata": {
    "colab": {
      "name": "sreeTest1.ipynb",
      "provenance": [],
      "toc_visible": true,
      "authorship_tag": "ABX9TyP2sizX64DmsfgyH46OMOAQ",
      "include_colab_link": true
    },
    "kernelspec": {
      "name": "python3",
      "display_name": "Python 3"
    }
  },
  "cells": [
    {
      "cell_type": "markdown",
      "metadata": {
        "id": "view-in-github",
        "colab_type": "text"
      },
      "source": [
        "<a href=\"https://colab.research.google.com/github/schogini/sree-ml-2019/blob/master/sreeTest1.ipynb\" target=\"_parent\"><img src=\"https://colab.research.google.com/assets/colab-badge.svg\" alt=\"Open In Colab\"/></a>"
      ]
    },
    {
      "cell_type": "code",
      "metadata": {
        "id": "GN4CKg6GDMfX",
        "colab_type": "code",
        "colab": {}
      },
      "source": [
        ""
      ],
      "execution_count": 0,
      "outputs": []
    },
    {
      "cell_type": "markdown",
      "metadata": {
        "id": "JMWEW_GVDQCJ",
        "colab_type": "text"
      },
      "source": [
        "# Data 1\n"
      ]
    },
    {
      "cell_type": "code",
      "metadata": {
        "id": "A0JKbbsKDacJ",
        "colab_type": "code",
        "colab": {}
      },
      "source": [
        "a=1\n"
      ],
      "execution_count": 0,
      "outputs": []
    },
    {
      "cell_type": "code",
      "metadata": {
        "id": "nz8-lyZQDvw0",
        "colab_type": "code",
        "colab": {}
      },
      "source": [
        ""
      ],
      "execution_count": 0,
      "outputs": []
    },
    {
      "cell_type": "markdown",
      "metadata": {
        "id": "HEhyXNhMDwjH",
        "colab_type": "text"
      },
      "source": [
        "# Data 2"
      ]
    },
    {
      "cell_type": "code",
      "metadata": {
        "id": "dV1M79eQDz1K",
        "colab_type": "code",
        "colab": {}
      },
      "source": [
        "ff=1"
      ],
      "execution_count": 0,
      "outputs": []
    },
    {
      "cell_type": "markdown",
      "metadata": {
        "id": "o4ljvkoZEQqc",
        "colab_type": "text"
      },
      "source": [
        "# New Section"
      ]
    },
    {
      "cell_type": "markdown",
      "metadata": {
        "id": "BjgkxyXwEUcM",
        "colab_type": "text"
      },
      "source": [
        "# New Section"
      ]
    }
  ]
}